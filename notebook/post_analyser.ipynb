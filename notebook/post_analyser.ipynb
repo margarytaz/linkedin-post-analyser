{
  "nbformat": 4,
  "nbformat_minor": 0,
  "metadata": {
    "colab": {
      "provenance": []
    },
    "kernelspec": {
      "name": "python3",
      "display_name": "Python 3"
    },
    "language_info": {
      "name": "python"
    }
  },
  "cells": [
    {
      "cell_type": "markdown",
      "source": [
        "# LinkedIn Post Analyser\n",
        "\n",
        "This Python script reads a .csv file stored in Google Drive, containing 5 LinkedIn posts. Then sends its content to a gpt model using OpenAI API and prompts the model for analysis and improvements. Then receives the output from LLM and saves it as a new file on Google Drive."
      ],
      "metadata": {
        "id": "ag5hV7P6zsxr"
      }
    },
    {
      "cell_type": "markdown",
      "source": [
        "1. Install required libraries"
      ],
      "metadata": {
        "id": "6L5yVP3-tkvc"
      }
    },
    {
      "cell_type": "code",
      "execution_count": 1,
      "metadata": {
        "colab": {
          "base_uri": "https://localhost:8080/"
        },
        "id": "uXhCLoUatkAu",
        "outputId": "f6bffad8-d7aa-4e2d-f2ea-af1d59750fac"
      },
      "outputs": [
        {
          "output_type": "stream",
          "name": "stdout",
          "text": [
            "Requirement already satisfied: openai in /usr/local/lib/python3.11/dist-packages (1.94.0)\n",
            "Requirement already satisfied: pandas in /usr/local/lib/python3.11/dist-packages (2.2.2)\n",
            "Requirement already satisfied: anyio<5,>=3.5.0 in /usr/local/lib/python3.11/dist-packages (from openai) (4.9.0)\n",
            "Requirement already satisfied: distro<2,>=1.7.0 in /usr/local/lib/python3.11/dist-packages (from openai) (1.9.0)\n",
            "Requirement already satisfied: httpx<1,>=0.23.0 in /usr/local/lib/python3.11/dist-packages (from openai) (0.28.1)\n",
            "Requirement already satisfied: jiter<1,>=0.4.0 in /usr/local/lib/python3.11/dist-packages (from openai) (0.10.0)\n",
            "Requirement already satisfied: pydantic<3,>=1.9.0 in /usr/local/lib/python3.11/dist-packages (from openai) (2.11.7)\n",
            "Requirement already satisfied: sniffio in /usr/local/lib/python3.11/dist-packages (from openai) (1.3.1)\n",
            "Requirement already satisfied: tqdm>4 in /usr/local/lib/python3.11/dist-packages (from openai) (4.67.1)\n",
            "Requirement already satisfied: typing-extensions<5,>=4.11 in /usr/local/lib/python3.11/dist-packages (from openai) (4.14.1)\n",
            "Requirement already satisfied: numpy>=1.23.2 in /usr/local/lib/python3.11/dist-packages (from pandas) (2.0.2)\n",
            "Requirement already satisfied: python-dateutil>=2.8.2 in /usr/local/lib/python3.11/dist-packages (from pandas) (2.9.0.post0)\n",
            "Requirement already satisfied: pytz>=2020.1 in /usr/local/lib/python3.11/dist-packages (from pandas) (2025.2)\n",
            "Requirement already satisfied: tzdata>=2022.7 in /usr/local/lib/python3.11/dist-packages (from pandas) (2025.2)\n",
            "Requirement already satisfied: idna>=2.8 in /usr/local/lib/python3.11/dist-packages (from anyio<5,>=3.5.0->openai) (3.10)\n",
            "Requirement already satisfied: certifi in /usr/local/lib/python3.11/dist-packages (from httpx<1,>=0.23.0->openai) (2025.7.9)\n",
            "Requirement already satisfied: httpcore==1.* in /usr/local/lib/python3.11/dist-packages (from httpx<1,>=0.23.0->openai) (1.0.9)\n",
            "Requirement already satisfied: h11>=0.16 in /usr/local/lib/python3.11/dist-packages (from httpcore==1.*->httpx<1,>=0.23.0->openai) (0.16.0)\n",
            "Requirement already satisfied: annotated-types>=0.6.0 in /usr/local/lib/python3.11/dist-packages (from pydantic<3,>=1.9.0->openai) (0.7.0)\n",
            "Requirement already satisfied: pydantic-core==2.33.2 in /usr/local/lib/python3.11/dist-packages (from pydantic<3,>=1.9.0->openai) (2.33.2)\n",
            "Requirement already satisfied: typing-inspection>=0.4.0 in /usr/local/lib/python3.11/dist-packages (from pydantic<3,>=1.9.0->openai) (0.4.1)\n",
            "Requirement already satisfied: six>=1.5 in /usr/local/lib/python3.11/dist-packages (from python-dateutil>=2.8.2->pandas) (1.17.0)\n"
          ]
        }
      ],
      "source": [
        "!pip install openai pandas"
      ]
    },
    {
      "cell_type": "markdown",
      "source": [
        "2. Import all required workflows into the notebook"
      ],
      "metadata": {
        "id": "ShbdKtpOuf7X"
      }
    },
    {
      "cell_type": "code",
      "source": [
        "import os\n",
        "import pandas as pd\n",
        "from openai import OpenAI\n",
        "from google.colab import userdata, drive\n",
        "from IPython.display import display, Markdown"
      ],
      "metadata": {
        "id": "N96yQXIiupzb"
      },
      "execution_count": 2,
      "outputs": []
    },
    {
      "cell_type": "markdown",
      "source": [
        "3. Defining a function for the prompt for a LLM. Prompt includes two parts: LinkedIn post analysis and creation of an improved version."
      ],
      "metadata": {
        "id": "jIf-jeMGu2jV"
      }
    },
    {
      "cell_type": "code",
      "source": [
        "def get_chatgpt_prompt(linkedin_post):\n",
        "  evaluation_prompt = f\"\"\"\n",
        "Please critically analyze the following LinkedIn post and then provide an improved version of it.\n",
        "Ensure the improved version is in the same language as the original post.\n",
        "\n",
        "---\n",
        "Original LinkedIn Post:\n",
        "{linkedin_post}\n",
        "---\n",
        "\n",
        "First, provide your analysis based on the following criteria:\n",
        "\n",
        "### Analysis:\n",
        "1.  **Content Quality:** Is the post well-written, clear, professional, and free of grammatical errors or typos?\n",
        "2.  **Reader Engagement:** How likely is this post to engage its readers? Does it invite interaction (e.g., questions, calls to action), or is it highly relatable?\n",
        "3.  **Value Provided:** Does the post offer genuine value, actionable insights, solutions, or thought-provoking content to the reader?\n",
        "4.  **Length Analysis:** Is the post of an optimal length for LinkedIn (e.g., concise enough to hold attention, but long enough to convey the message)?\n",
        "5.  **LinkedIn Formatting & Readability:** Does the post utilize formatting best practices for LinkedIn (e.g., use of short paragraphs, bullet points, emojis, line breaks, bold/italic text if applicable) to enhance readability and visual appeal?\n",
        "\n",
        "Provide specific feedback and suggestions where appropriate for each analysis point.\n",
        "\n",
        "Second, provide an improved version of the post. This improved version should address the issues identified in the analysis and incorporate LinkedIn best practices.\n",
        "\n",
        "### Improved Post:\n",
        "\"\"\"\n",
        "  return evaluation_prompt"
      ],
      "metadata": {
        "id": "UzmhdTZyu9Xh"
      },
      "execution_count": 3,
      "outputs": []
    },
    {
      "cell_type": "markdown",
      "source": [
        "4. Defining a function to get a response from the LLM. System role: expert in social media marketing and content analysis."
      ],
      "metadata": {
        "id": "0RGzx-9cvnGO"
      }
    },
    {
      "cell_type": "code",
      "source": [
        "def get_insights_from_chatgpt(client, linkedin_post):\n",
        "  prompt = get_chatgpt_prompt(linkedin_post)\n",
        "  try:\n",
        "    response = client.chat.completions.create(\n",
        "      model=\"gpt-4o-mini\",\n",
        "      messages=[\n",
        "        {\"role\": \"system\", \"content\": \"You are an expert in social media marketing and content analysis. Provide clear, actionable feedback and rewrite posts concisely.\"},\n",
        "        {\"role\": \"user\", \"content\": prompt}\n",
        "      ],\n",
        "      temperature = 0.5,\n",
        "      max_tokens = 1000,\n",
        "      top_p = 0.8\n",
        "    )\n",
        "    full_response_content = response.choices[0].message.content\n",
        "\n",
        "    analysis_start_tag = \"### Analysis:\"\n",
        "    improved_post_start_tag = \"### Improved Post:\"\n",
        "\n",
        "    analysis_text = \"Analysis could not be parsed.\"\n",
        "    improved_post_text = \"Improved post could not be parsed.\"\n",
        "\n",
        "    if analysis_start_tag in full_response_content and improved_post_start_tag in full_response_content:\n",
        "        analysis_section = full_response_content.split(improved_post_start_tag)[0]\n",
        "        improved_post_section = full_response_content.split(improved_post_start_tag)[1]\n",
        "\n",
        "        if analysis_section.startswith(analysis_start_tag):\n",
        "            analysis_text = analysis_section[len(analysis_start_tag):].strip()\n",
        "        else:\n",
        "            analysis_text = analysis_section.strip()\n",
        "\n",
        "        improved_post_text = improved_post_section.strip()\n",
        "    else:\n",
        "        analysis_text = \"Warning: Expected headings '### Analysis:' and '### Improved Post:' not found. Full response:\\n\" + full_response_content\n",
        "        improved_post_text = \"Parsing failed: Improved post not clearly separated.\"\n",
        "\n",
        "    return analysis_text, improved_post_text\n",
        "  except Exception as e:\n",
        "    return f\"Error: {e}\", None"
      ],
      "metadata": {
        "id": "Vd8lDgN3vv7d"
      },
      "execution_count": 4,
      "outputs": []
    },
    {
      "cell_type": "markdown",
      "source": [
        "5. Connect to Google Drive to access files."
      ],
      "metadata": {
        "id": "bzxUUYVDwDzb"
      }
    },
    {
      "cell_type": "code",
      "source": [
        "def mount_google_drive():\n",
        "  print(\"Mounting Google Drive...\")\n",
        "  try:\n",
        "    drive.mount('/content/drive')\n",
        "    print(\"Google Drive mounted successfully.\")\n",
        "    return True\n",
        "  except Exception as e:\n",
        "    print(f\"Error mounting Google Drive: {e}\")\n",
        "    print(\"Please ensure you've authorized Colab to access your Google Drive.\")\n",
        "    return False"
      ],
      "metadata": {
        "id": "bUIxmsHdxhNV"
      },
      "execution_count": 5,
      "outputs": []
    },
    {
      "cell_type": "markdown",
      "source": [
        "6. Access and read a .csv file on Google Drive."
      ],
      "metadata": {
        "id": "mKkfHMI2x1jV"
      }
    },
    {
      "cell_type": "code",
      "source": [
        "def load_linkedin_posts(csv_file_path):\n",
        "  try:\n",
        "    df = pd.read_csv(csv_file_path, sep=';')\n",
        "    if 'post_content' not in df.columns:\n",
        "        print(f\"Error: CSV file must contain a column named 'post_content'. Found columns: {df.columns.tolist()}\")\n",
        "        print(\"Please ensure your CSV has a 'post_content' column or update the code to match your column name.\")\n",
        "        return None\n",
        "    linkedin_posts = df['post_content'].tolist()\n",
        "    print(f\"Successfully loaded {len(linkedin_posts)} posts from '{csv_file_path}'.\")\n",
        "    return linkedin_posts\n",
        "  except FileNotFoundError:\n",
        "    print(f\"Error: CSV file not found at '{csv_file_path}'. Please check the path.\")\n",
        "    return None\n",
        "  except pd.errors.EmptyDataError:\n",
        "    print(f\"Error: CSV file at '{csv_file_path}' is empty.\")\n",
        "    return None\n",
        "  except Exception as e:\n",
        "    print(f\"Error reading CSV file: {e}\")\n",
        "    return None"
      ],
      "metadata": {
        "id": "4TXKC7O0yHAY"
      },
      "execution_count": 6,
      "outputs": []
    },
    {
      "cell_type": "markdown",
      "source": [
        "7. Connect to OpenAI API using the API key saved in Colab Secrets."
      ],
      "metadata": {
        "id": "eLNBCpivyQzi"
      }
    },
    {
      "cell_type": "code",
      "source": [
        "def get_openai_client():\n",
        "  try:\n",
        "    openai_api_key = userdata.get(\"OPENAI_API_KEY\")\n",
        "  except Exception as e:\n",
        "    print(f\"Error retrieving API key from Colab Secrets: {e}\")\n",
        "    print(\"Please ensure 'OPENAI_API_KEY' is added to Colab Secrets and 'Notebook access' is enabled.\")\n",
        "    return None\n",
        "\n",
        "  if not openai_api_key:\n",
        "    print(\"Error: OPENAI_API_KEY secret not found or empty in Colab Secrets.\")\n",
        "    print(\"Please ensure it's added and 'Notebook access' is enabled.\")\n",
        "    return None\n",
        "\n",
        "  try:\n",
        "    client = OpenAI(api_key=openai_api_key)\n",
        "    return client\n",
        "  except Exception as e:\n",
        "    print(f\"Error initializing OpenAI client: {e}\")\n",
        "    return None"
      ],
      "metadata": {
        "id": "gDcaiucdycS0"
      },
      "execution_count": 7,
      "outputs": []
    },
    {
      "cell_type": "markdown",
      "source": [
        "8. Save the LLM output back on Google Drive."
      ],
      "metadata": {
        "id": "9CL9GYPyylZL"
      }
    },
    {
      "cell_type": "code",
      "source": [
        "def save_output_to_drive(all_outputs):\n",
        "\n",
        "  output_drive_path = input(\"\\nPlease enter the desired path to save the output file on Google Drive (e.g., /content/drive/My Drive/colabfiles/linkedin_analysis_results.md): \").strip()\n",
        "\n",
        "  if not output_drive_path:\n",
        "    output_drive_path = \"/content/drive/My Drive/linkedin_analysis_results.md\"\n",
        "    print(f\"No output path provided. Saving to default: {output_drive_path}\")\n",
        "  try:\n",
        "    with open(output_drive_path, \"w\", encoding=\"utf-8\") as f:\n",
        "      f.write(\"\\n\".join(all_outputs))\n",
        "    print(f\"\\nAll analysis and improved posts successfully saved to: '{output_drive_path}'\")\n",
        "    print(\"You can find this file in your Google Drive and download it from there.\")\n",
        "    return True\n",
        "  except Exception as e:\n",
        "    print(f\"Error saving output file to Google Drive: {e}\")\n",
        "    return False"
      ],
      "metadata": {
        "id": "X0L4NDZhwMUL"
      },
      "execution_count": 8,
      "outputs": []
    },
    {
      "cell_type": "markdown",
      "source": [
        "9. Definition of the main function to orchestrate the LinkedIn post analysis and improvement workflow."
      ],
      "metadata": {
        "id": "Yh-vPt6Qy5sq"
      }
    },
    {
      "cell_type": "code",
      "source": [
        "def main():\n",
        "  if not mount_google_drive():\n",
        "    return\n",
        "\n",
        "  csv_file_path = input(\"\\nPlease enter the path to your CSV file on Google Drive (e.g., /content/drive/My Drive/colabfiles/linkedin_posts.csv): \").strip()\n",
        "  if not csv_file_path:\n",
        "      print(\"No CSV file path provided. Exiting.\")\n",
        "      return\n",
        "\n",
        "  linkedin_posts = load_linkedin_posts(csv_file_path)\n",
        "  if linkedin_posts is None:\n",
        "    return\n",
        "\n",
        "  client = get_openai_client()\n",
        "  if client is None:\n",
        "    return\n",
        "\n",
        "  all_outputs = []\n",
        "  print(\"\\n--- Starting LinkedIn Post Analysis and Improvement ---\")\n",
        "\n",
        "  for i, original_post in enumerate(linkedin_posts):\n",
        "    print(f\"\\nProcessing Post {i+1}/{len(linkedin_posts)}...\")\n",
        "\n",
        "    if not isinstance(original_post, str):\n",
        "        original_post = str(original_post)\n",
        "\n",
        "    analysis, improved_post = get_insights_from_chatgpt(client, original_post)\n",
        "\n",
        "    current_post_output = f\"\"\"\n",
        "--- Post {i+1} ---\n",
        "### Original Post:\n",
        "{original_post}\n",
        "\n",
        "### ChatGPT's Analysis:\n",
        "{analysis}\n",
        "\n",
        "### Improved Version:\n",
        "{improved_post}\n",
        "\"\"\"\n",
        "    all_outputs.append(current_post_output)\n",
        "    display(Markdown(current_post_output))\n",
        "\n",
        "  print(\"\\n--- Analysis Complete ---\")\n",
        "  save_output_to_drive(all_outputs)"
      ],
      "metadata": {
        "id": "N-ktE0bzzO7b"
      },
      "execution_count": 9,
      "outputs": []
    },
    {
      "cell_type": "markdown",
      "source": [
        "10. Run the code"
      ],
      "metadata": {
        "id": "y_rlzykGzigQ"
      }
    },
    {
      "cell_type": "code",
      "source": [
        "main()"
      ],
      "metadata": {
        "colab": {
          "base_uri": "https://localhost:8080/",
          "height": 1000
        },
        "id": "4hq5MKsIzoQE",
        "outputId": "4b3309d0-9fc3-406a-af98-dc89b516acb6"
      },
      "execution_count": 10,
      "outputs": [
        {
          "output_type": "stream",
          "name": "stdout",
          "text": [
            "Mounting Google Drive...\n",
            "Mounted at /content/drive\n",
            "Google Drive mounted successfully.\n",
            "\n",
            "Please enter the path to your CSV file on Google Drive (e.g., /content/drive/My Drive/colabfiles/linkedin_posts.csv): /content/drive/My Drive/colabfiles/linkedin_posts.csv\n",
            "Successfully loaded 5 posts from '/content/drive/My Drive/colabfiles/linkedin_posts.csv'.\n",
            "\n",
            "--- Starting LinkedIn Post Analysis and Improvement ---\n",
            "\n",
            "Processing Post 1/5...\n"
          ]
        },
        {
          "output_type": "display_data",
          "data": {
            "text/plain": [
              "<IPython.core.display.Markdown object>"
            ],
            "text/markdown": "\n--- Post 1 ---\n### Original Post:\n«During Pride Month, Kering proudly celebrated the vibrant LGBTQIA+ community across our Group.\n\nThis year, Kering and our Houses joined Pride parades in Paris, Milan, Rome, Tokyo, London, Mexico City, and cities across the United States.\n\nWe also partnered with The Center, a leading LGBTQIA+ organization, to host special events in New York and Los Angeles.\n\nAt Kering, Pride doesn’t end in June. Through ALL, our internal LGBTQIA+ network, we champion inclusion year-round with open conversations, dedicated activities and learning modules.\n\nLearn more about how Kering empowers talent:\nhttps://lnkd.in/eDWxBxhv\n\n### ChatGPT's Analysis:\n1. **Content Quality:** \n   - The post is well-written, clear, and professional. There are no grammatical errors or typos. However, it could benefit from a more engaging tone.\n\n2. **Reader Engagement:** \n   - While the post shares accomplishments, it lacks a direct call to action or an invitation for readers to share their experiences or thoughts. This could limit interaction.\n\n3. **Value Provided:** \n   - The post highlights Kering’s commitment to the LGBTQIA+ community, which is valuable. However, it could offer more insights into how others can get involved or support similar initiatives.\n\n4. **Length Analysis:** \n   - The post is of a reasonable length for LinkedIn, but it can be streamlined to make it more concise and impactful.\n\n5. **LinkedIn Formatting & Readability:** \n   - The post could benefit from better formatting. Using bullet points or line breaks would enhance readability and make it visually appealing.\n\n### Suggestions:\n- Incorporate a question or call to action to encourage reader engagement.\n- Use bullet points for clarity when listing events and partnerships.\n- Consider adding a personal touch or a quote to make it relatable.\n- Shorten sentences for a more impactful delivery.\n\n### Improved Version:\n🌈 **Celebrating Pride Month at Kering!** 🌈\n\nThis June, we proudly honored the vibrant LGBTQIA+ community across our Group by participating in Pride parades in cities like:\n\n- Paris\n- Milan\n- Rome\n- Tokyo\n- London\n- Mexico City\n- Various U.S. cities\n\nIn partnership with The Center, we hosted special events in New York and Los Angeles, fostering dialogue and inclusion.\n\nAt Kering, our commitment to Pride extends beyond June. Through **ALL**, our internal LGBTQIA+ network, we promote year-round inclusion with:\n\n- Open conversations\n- Engaging activities\n- Learning modules\n\n✨ **Join us in championing diversity and inclusion!** How do you celebrate Pride in your community? \n\nLearn more about how Kering empowers talent: [Kering's Commitment](https://lnkd.in/eDWxBxhv) \n\n#PrideMonth #LGBTQIA #Inclusion #Diversity #Kering\n"
          },
          "metadata": {}
        },
        {
          "output_type": "stream",
          "name": "stdout",
          "text": [
            "\n",
            "Processing Post 2/5...\n"
          ]
        },
        {
          "output_type": "display_data",
          "data": {
            "text/plain": [
              "<IPython.core.display.Markdown object>"
            ],
            "text/markdown": "\n--- Post 2 ---\n### Original Post:\n«Šią vasarą kviečiame ne tik dėvėti, bet ir išgyventi vieną garsiausių lietuviškų legendų - Eglės Žalčių karalienės mitą.\n\nVasaros kolekcijos pasakojimą kūrėme kartu su dviem garsiomis Lietuvos kūrėjomis - Lina Vyšniauskaite (Lina Disciplina) ir Jolita Vaitkutė. Kartu bandėme atsakyti į klausimą: ką reiškia būti lietuviu šiandien? Atsakymas slypi Eglės žalčių karalienės mite – moderniai perteiktame per grafiką, formas, simbolius ir natūralias medžiagas.\n\n🎨 Lina Vyšniauskaitė (Lina Disciplina) kolekcijoje atnešė aiškų, grafinį ir disciplinuotą braižą. Jos Eglė – tarsi iškalta iš linijų, tvirta, moderni, bet su giliu žvilgsniu.\n🌿 Jolita Vaitkutė rėmėsi natūralumo ir gamtos pojūčiu. Ji dirbo su tikromis medžiagomis – žalio šilko atspalviais, žolynais, tošimi, tarsi jungdama tikrą Lietuvos mišką su tekstile.\n\nŠi AUDIMAS kolekcija – tai daugiau nei tik vasaros drabužiai. Tai priminimas apie ryšį su tuo, kas pastovu: gamta, tikrumu ir tapatybe, kurią nešiojamės viduje – dabar ir visada.\n\n### ChatGPT's Analysis:\n1. **Content Quality:** \n   - The post is well-written and clear, with no grammatical errors. It effectively communicates the essence of the summer collection and its connection to Lithuanian culture. However, some phrases could be simplified for better clarity.\n\n2. **Reader Engagement:** \n   - While the post is informative, it lacks a direct call to action or an invitation for readers to engage (e.g., asking for their thoughts on the collection or the legend). Including a question or prompt could enhance interaction.\n\n3. **Value Provided:** \n   - The post offers cultural insights and a connection to the collection, which is valuable. However, it could provide more actionable insights, such as how readers can experience or purchase the collection.\n\n4. **Length Analysis:** \n   - The post is slightly lengthy for LinkedIn. While it conveys a rich narrative, a more concise version would hold attention better. Reducing some descriptive elements could enhance readability.\n\n5. **LinkedIn Formatting & Readability:** \n   - The post could benefit from better formatting. Using bullet points or line breaks for the descriptions of the creators and their contributions would enhance readability. Emojis are used effectively, but more structured formatting could improve the visual appeal.\n\n### Improved Version:\n🌟 **Atraskite Eglės Žalčių karalienės mitą šią vasarą!** 🌟\n\nKviečiame ne tik dėvėti, bet ir išgyventi vieną garsiausių lietuviškų legendų su mūsų nauja vasaros kolekcija, sukurta kartu su talentingomis kūrėjomis:\n\n🎨 **Lina Vyšniauskaitė (Lina Disciplina)** - jos dizainas pasižymi aiškiomis linijomis ir modernumu. Lina perteikia Eglę kaip tvirtą ir šiuolaikišką figūrą.\n\n🌿 **Jolita Vaitkutė** - jos darbas jungia gamtos pojūtį su tikromis medžiagomis, tokiomis kaip žalias šilkas ir žolynai, atspindintis Lietuvos miškus.\n\nŠi AUDIMAS kolekcija – tai ne tik drabužiai, bet ir priminimas apie mūsų ryšį su gamta ir tapatybe. \n\n👉 **Ką jums reiškia būti lietuviu šiandien? Pasidalinkite mintimis komentaruose!** \n\n#EglėsŽalčiųKaralienė #VasarosKolekcija #AUDIMAS #LietuviškaKultūra\n"
          },
          "metadata": {}
        },
        {
          "output_type": "stream",
          "name": "stdout",
          "text": [
            "\n",
            "Processing Post 3/5...\n"
          ]
        },
        {
          "output_type": "display_data",
          "data": {
            "text/plain": [
              "<IPython.core.display.Markdown object>"
            ],
            "text/markdown": "\n--- Post 3 ---\n### Original Post:\n«At AUDIMAS SUPPLY, we bring your brand to life down to the finest detail with advanced transfer printing technology. ✨ \n\nWhy choose transfer printing?\n\n🌈  Maintains original colour tones from digital files\n ☔ Resists environmental exposure and frequent washing\n🎯  Perfect for both subtle detailing and bold graphics\n\nFrom performance wear to premium fashion, we’re ready to execute your vision with precision and creativity.\n 👉 Swipe through to explore the different transfer techniques we offer.\n\n### ChatGPT's Analysis:\n1. **Content Quality:** \n   - The post is generally well-written and clear. However, it could benefit from a more engaging opening line that directly addresses the audience's needs or interests. The use of \"✨\" is appropriate, but the overall tone could be slightly more professional while still being friendly.\n\n2. **Reader Engagement:** \n   - While the post does provide information, it lacks a strong call to action that invites readers to interact. Phrasing like \"Let us know your thoughts!\" or \"What designs do you envision?\" could foster engagement.\n\n3. **Value Provided:** \n   - The post highlights the benefits of transfer printing, which is valuable. However, it could be enhanced by briefly mentioning specific applications or industries that would particularly benefit from this technology, making it more relatable to potential clients.\n\n4. **Length Analysis:** \n   - The post is of an appropriate length for LinkedIn, but it could be made more concise. Some points could be combined or simplified to improve clarity and impact.\n\n5. **LinkedIn Formatting & Readability:** \n   - The use of bullet points and emojis is effective for readability. However, incorporating line breaks between sections could enhance visual appeal and make it easier to skim.\n\n### Improved Version:\n🌟 **Transform Your Brand with AUDIMAS SUPPLY!** 🌟\n\nAt AUDIMAS SUPPLY, we specialize in bringing your vision to life with cutting-edge transfer printing technology. \n\n**Why Choose Transfer Printing?**\n- 🌈 **Vibrant Colors:** Retains original tones from digital files.\n- ☔ **Durable:** Withstands environmental exposure and frequent washing.\n- 🎯 **Versatile:** Ideal for subtle details or bold graphics.\n\nWhether you're in performance wear or premium fashion, we're here to execute your designs with precision and creativity.\n\n👉 **Curious about our transfer techniques?** Swipe through to explore! \n\n💬 **What designs do you envision for your brand? Let us know!**\n"
          },
          "metadata": {}
        },
        {
          "output_type": "stream",
          "name": "stdout",
          "text": [
            "\n",
            "Processing Post 4/5...\n"
          ]
        },
        {
          "output_type": "display_data",
          "data": {
            "text/plain": [
              "<IPython.core.display.Markdown object>"
            ],
            "text/markdown": "\n--- Post 4 ---\n### Original Post:\n«Praėjusią savaitę užbaigėme Klaipėdoje, kur vyko kartu su Baltic Sandbox organizuojamos 3 dalių dirbtuvės ir patirčių dalybos su startuolių kūrėjais ir verslo lyderiais! 🙌\n\n✔️ BSV Ventures generalinė partnerė Sandra Golbreich pasakojo, kaip supaprastinti sprendimų priėmimą, greičiau prisitaikyti prie pokyčių ir transformuoti tradicines verslo struktūras\n✔️ SPARKLY.HR įkūrėjas ir vadovas, verslo patarėjas ir mentorius Mikk Orglaan padėjo geriau suprasti, kaip veikia startuoliai, jų kitokį požiūrį į marketingą ir kaip efektyviai planuoti augimą\n✔️ Apie savo klaidas atvirai pasakojo (ne)sėkmių patirtimis versle bei gyvenime dalinosi: Beatos Virtuvė vadovė Odeta Bloziene; CHAZZ CHIPS bendraįkūrėjas Žilvinas Kulvinskis; Stand UP Advertising agency įkūrėja Inesa Budgine 🆙.\n\nDėkojame renginio partneriams: Baltic Sandbox ir BSV Ventures.\n\nAčiū tariame renginio rėmėjams: UAB Švyturys - Utenos alus9 (nealkoholinis), Aromatic •89•, Angel SPA; IQ_zurnalas, S. Jokužio leidykla - spaustuvė, Giftika, UAB SAKALAS, kurie dovanoja Elephant ir Merci produkciją, Tubinas Hotels, Mama reklama, Klaipėdos m. savivaldybė/Klaipeda City Municipality, Nepaleisk Svajones.\n\nRenginio after'is: CAPE šiaurinis\nInternetinis puslapis: Rocket Science Baltics\nRenginio vieta: Lighthouse HUB\n\nNuotraukos: Artūras Žukas (Arturasz Photography)»\n\n### ChatGPT's Analysis:\n1. **Content Quality:** \n   - The post is generally well-written and clear, but it could benefit from more concise language. Some phrases are overly long and could be simplified. There are no grammatical errors or typos.\n\n2. **Reader Engagement:** \n   - The post does not actively invite interaction or engagement from the audience. Adding a question or a call to action could encourage readers to share their thoughts or experiences.\n\n3. **Value Provided:** \n   - The post offers valuable insights from industry leaders, but it lacks a clear takeaway for the reader. Summarizing the key lessons learned or insights gained could enhance its value.\n\n4. **Length Analysis:** \n   - The post is somewhat lengthy for LinkedIn. While it provides detailed information, it could be more concise to maintain reader attention.\n\n5. **LinkedIn Formatting & Readability:** \n   - The formatting could be improved. Using bullet points for key takeaways and breaking up the text into shorter paragraphs would enhance readability. The use of emojis is appropriate, but they should be strategically placed to avoid clutter.\n\n### Improved Version:\n🌟 Praėjusią savaitę Klaipėdoje užbaigėme 3 dalių dirbtuves su Baltic Sandbox, kur dalinomės patirtimis su startuolių kūrėjais ir verslo lyderiais! 🙌\n\n**Pagrindiniai įžvalgos:**\n- **Sandra Golbreich** (BSV Ventures): Kaip supaprastinti sprendimų priėmimą ir greičiau prisitaikyti prie pokyčių.\n- **Mikk Orglaan** (SPARKLY.HR): Startuolių marketingo strategijos ir efektyvus augimo planavimas.\n- **Beatos Virtuvė** (Odeta Bloziene), **CHAZZ CHIPS** (Žilvinas Kulvinskis), **Stand UP Advertising** (Inesa Budgine): Atviros diskusijos apie (ne)sėkmes versle ir gyvenime.\n\n🙏 Dėkojame renginio partneriams: Baltic Sandbox ir BSV Ventures, bei rėmėjams: UAB Švyturys - Utenos alus9, Aromatic •89•, Angel SPA, IQ_zurnalas, S. Jokužio leidykla, Giftika, UAB SAKALAS, Tubinas Hotels, Mama reklama, Klaipėdos m. savivaldybė.\n\n📍 **Renginio vieta:** Lighthouse HUB  \n🌐 **Daugiau informacijos:** Rocket Science Baltics  \n📸 **Nuotraukos:** Artūras Žukas (Arturasz Photography)\n\n**Kokios buvo jūsų įžvalgos iš šių dirbtuvių? Pasidalinkite komentaruose!**\n"
          },
          "metadata": {}
        },
        {
          "output_type": "stream",
          "name": "stdout",
          "text": [
            "\n",
            "Processing Post 5/5...\n"
          ]
        },
        {
          "output_type": "display_data",
          "data": {
            "text/plain": [
              "<IPython.core.display.Markdown object>"
            ],
            "text/markdown": "\n--- Post 5 ---\n### Original Post:\n«𝗕𝗼𝗻𝗷𝗼𝘂𝗿! 𝗘𝘅𝗽𝗲𝗿𝗶𝗲𝗻𝗰𝗲 𝗕𝗲𝗮𝘂𝘁𝘆 𝗮𝘁 𝗡𝗢𝗖𝗜𝗕É’𝘀 𝗻𝗲𝘄 𝗕𝗼𝘂𝘁𝗶𝗾𝘂𝗲 𝗮𝘁 𝘁𝗵𝗲 𝗚𝗮𝘁𝗲𝘀 𝗼𝗳 𝗣𝗮𝗿𝗶𝘀\n\nAs part of its ongoing transformation, NOCIBE – part of the DOUGLAS Group – has unveiled its latest store concept, marking an important step in the rollout of its redefined retail strategy in France. Spanning 320 m², our newest store is built around a clear strategic focus: placing personalized beauty services and evolving customer needs at the core of the in-store experience.\n\n✨ At the heart of the concept: A curated menu of services including facials, spray tans, K-Beauty rituals, a nail bar, and on-site fragrance engraving. The services are available with or without appointment, ensuring accessibility and reinforcing NOCIBÉ’s positioning as a service-led beauty destination.\n\n💆‍♀️ In a more serene space, the store complements this offering with a new treatment menu and “Head Spa” scalp rituals. These additions reflect NOCIBÉ’s strategic alignment with emerging customer needs, particularly the increasing emphasis on the integration of skincare principles into haircare. They also underline the comprehensive approach to well-being and beauty.\n\n📦 Fully integrated with digital services such as Click & Collect Express and Choix+, the new concept enables a seamless omnichannel experience across all touchpoints.\n\nThe opening is the first of several store launches planned across France through 2025 – each reinforcing NOCIBÉ’s vision to create experience-driven retail spaces that reflect the evolving expectations of today’s beauty consumers.\n\nCongratulations to the teams at NOCIBÉ and across the DOUGLAS Group on this exciting milestone. 👏\n\n### ChatGPT's Analysis:\n1. **Content Quality:** The post is generally well-written and professional, with no glaring grammatical errors. However, it could benefit from a more concise structure to enhance clarity.\n\n2. **Reader Engagement:** While the post shares exciting news, it lacks a direct call to action or questions that could prompt reader interaction. Including a question or inviting comments could increase engagement.\n\n3. **Value Provided:** The post does provide valuable insights about the new store concept and its alignment with customer needs. However, it could be enhanced by emphasizing how these services can directly benefit the reader.\n\n4. **Length Analysis:** The post is somewhat lengthy for LinkedIn. While it conveys important information, it could be shortened to maintain reader attention while still delivering the key messages.\n\n5. **LinkedIn Formatting & Readability:** The post uses emojis and some line breaks, which is good for readability. However, it could benefit from bullet points or numbered lists to break down the services offered, making it easier to scan.\n\n### Improved Version:\n**🌟 Découvrez la nouvelle Boutique NOCIBÉ aux Portes de Paris !**\n\nNOCIBÉ, membre du groupe DOUGLAS, lance un concept de magasin innovant de 320 m², centré sur l’expérience beauté personnalisée.\n\n**Nos services phares incluent :**\n- 🌿 Soins du visage\n- ✨ Bronzage par pulvérisation\n- 💅 Bar à ongles\n- 💖 Rituels K-Beauty\n- ✍️ Gravure de parfums sur place\n\nTous ces services sont disponibles avec ou sans rendez-vous, renforçant notre position en tant que destination beauté axée sur le service.\n\n**Nouveautés à découvrir :**\n- 💆‍♀️ Menu de traitements et rituels « Head Spa »\n- Intégration de services digitaux comme Click & Collect Express\n\nCette ouverture est la première d'une série de lancements prévus en France jusqu'en 2025, visant à créer des espaces de vente axés sur l'expérience client.\n\n👏 Félicitations aux équipes de NOCIBÉ et du groupe DOUGLAS pour cette étape passionnante ! \n\n**Quelles expériences beauté aimeriez-vous voir dans nos boutiques ? Partagez vos idées en commentaires !**\n"
          },
          "metadata": {}
        },
        {
          "output_type": "stream",
          "name": "stdout",
          "text": [
            "\n",
            "--- Analysis Complete ---\n",
            "\n",
            "Please enter the desired path to save the output file on Google Drive (e.g., /content/drive/My Drive/colabfiles/linkedin_analysis_results.md): /content/drive/My Drive/colabfiles/linkedin_analysis_results.md\n",
            "\n",
            "All analysis and improved posts successfully saved to: '/content/drive/My Drive/colabfiles/linkedin_analysis_results.md'\n",
            "You can find this file in your Google Drive and download it from there.\n"
          ]
        }
      ]
    }
  ]
}